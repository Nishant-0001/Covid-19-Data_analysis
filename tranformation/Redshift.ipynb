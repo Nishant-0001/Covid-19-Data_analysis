{
 "cells": [
  {
   "cell_type": "code",
   "execution_count": null,
   "id": "d3fc4ac9-d26a-401c-b1ac-82678bc0f970",
   "metadata": {},
   "outputs": [],
   "source": [
    "import boto3\n",
    "import pandas as pd\n",
    "from io import StringIO"
   ]
  },
  {
   "cell_type": "code",
   "execution_count": null,
   "id": "f397a5a8-5225-48cd-a351-b831729b88c9",
   "metadata": {},
   "outputs": [],
   "source": [
    "\n",
    "AWS_ACCESS_KEY = \"\"\n",
    "AWS_SECRET_KEY = \"\"\n",
    "AWS_REGION=\"\"\n",
    "SCHEMA_NAME = \"covid-19\"\n",
    "S3_STAGING_DIR= \"s3://covid-19-output31/Output/\"\n",
    "S3_BUCKET_NAME = \"covid-19-output31\"\n",
    "S3_OUTPUT_DIRECTORY = \"Output\"\n",
    "\n",
    "\n"
   ]
  },
  {
   "cell_type": "code",
   "execution_count": null,
   "id": "999048be-34c3-468e-b81f-4301f3ceed11",
   "metadata": {},
   "outputs": [],
   "source": [
    "\n",
    "athena_client = boto3.client(\n",
    "   \"athena\",\n",
    "    aws_access_key_id=AWS_ACCESS_KEY, \n",
    "    aws_secret_access_key=AWS_SECRET_KEY, \n",
    "    region_name=AWS_REGION,\n",
    ")\n"
   ]
  },
  {
   "cell_type": "code",
   "execution_count": null,
   "id": "953d5d8f-2fd6-4b98-a31e-d393a4db72b6",
   "metadata": {},
   "outputs": [],
   "source": [
    "Dict = {} \n",
    "def download_and_load_query_results(\n",
    "    client: boto3.client, query_response: Dict\n",
    ") -> pd.DataFrame:\n",
    "     while True:\n",
    "         try:\n",
    "             \n",
    "        #This function only loads the first 1000 rows \n",
    "             client.get_query_results(\n",
    "                 QueryExecutionId=query_response[\"QueryExecutionId\"]\n",
    "             )\n",
    "             break\n",
    "         except Exception as err: \n",
    "            if \"not yet finished\" in str(err):                \n",
    "                time.sleep(0.001)\n",
    "            else:\n",
    "                raise err\n",
    "     temp_file_location: str = \"athena_query_results.csv\"\n",
    "     s3_client = boto3.client(\n",
    "        's3', \n",
    "         aws_access_key_id=AWS_ACCESS_KEY, \n",
    "         aws_secret_access_key=AWS_SECRET_KEY, \n",
    "         region_name=AWS_REGION,\n",
    "     )\n",
    "     s3_client.download_file( \n",
    "         S3_BUCKET_NAME, \n",
    "         f\"{S3_OUTPUT_DIRECTORY}/{query_response['QueryExecutionId']}.csv\", \n",
    "         temp_file_location,\n",
    "     ) \n",
    "     return pd.read_csv(temp_file_location)\n",
    "    \n",
    "\n",
    "\n",
    "\n"
   ]
  },
  {
   "cell_type": "code",
   "execution_count": null,
   "id": "40ec3a9a-8b11-48bd-a10e-eacc32b6f93e",
   "metadata": {},
   "outputs": [],
   "source": [
    "response = athena_client.start_query_execution(\n",
    "    QueryString=\"SELECT * FROM state_abv\", \n",
    "    QueryExecutionContext={\"Database\": SCHEMA_NAME}, \n",
    "    ResultConfiguration={\n",
    "        \"OutputLocation\": S3_STAGING_DIR,\n",
    "        \"EncryptionConfiguration\": {\"EncryptionOption\": \"SSE_S3\"},\n",
    "    },\n",
    ")\n"
   ]
  },
  {
   "cell_type": "code",
   "execution_count": null,
   "id": "34c09d14-9ef9-411d-9a94-482d75381584",
   "metadata": {
    "scrolled": true
   },
   "outputs": [],
   "source": [
    "response"
   ]
  },
  {
   "cell_type": "code",
   "execution_count": null,
   "id": "b9b0abfc-4b26-492e-a28f-1e769fd390eb",
   "metadata": {},
   "outputs": [],
   "source": [
    "state_abv= download_and_load_query_results(athena_client, response)\n",
    "state_abv.head()\n"
   ]
  },
  {
   "cell_type": "code",
   "execution_count": null,
   "id": "3c11b65c-1ef0-457e-a5d4-b7e06c168e3a",
   "metadata": {},
   "outputs": [],
   "source": [
    "response = athena_client.start_query_execution(\n",
    "    QueryString=\"SELECT * FROM states_daily\", \n",
    "    QueryExecutionContext={\"Database\": SCHEMA_NAME}, \n",
    "    ResultConfiguration={\n",
    "        \"OutputLocation\": S3_STAGING_DIR,\n",
    "        \"EncryptionConfiguration\": {\"EncryptionOption\": \"SSE_S3\"},\n",
    "    },\n",
    ")"
   ]
  },
  {
   "cell_type": "code",
   "execution_count": null,
   "id": "7e61aa23-8cf5-4329-a9b6-55f58c3f2b6d",
   "metadata": {},
   "outputs": [],
   "source": [
    "states_daily= download_and_load_query_results(athena_client, response)\n",
    "states_daily.head()\n"
   ]
  },
  {
   "cell_type": "code",
   "execution_count": null,
   "id": "972cc1f0-0690-49c5-9fad-b2101a4e5304",
   "metadata": {},
   "outputs": [],
   "source": [
    "response = athena_client.start_query_execution(\n",
    "    QueryString=\"SELECT * FROM us_county\", \n",
    "    QueryExecutionContext={\"Database\": SCHEMA_NAME}, \n",
    "    ResultConfiguration={\n",
    "        \"OutputLocation\": S3_STAGING_DIR,\n",
    "        \"EncryptionConfiguration\": {\"EncryptionOption\": \"SSE_S3\"},\n",
    "    },\n",
    ")"
   ]
  },
  {
   "cell_type": "code",
   "execution_count": null,
   "id": "0463bf42-7ea3-4ab2-a4b1-9f6717fae8fe",
   "metadata": {},
   "outputs": [],
   "source": [
    "us_county= download_and_load_query_results(athena_client, response)\n",
    "us_county.head()\n",
    "\n"
   ]
  },
  {
   "cell_type": "code",
   "execution_count": null,
   "id": "57880caf-dc03-4ce5-8085-7f531e0bf013",
   "metadata": {},
   "outputs": [],
   "source": [
    "response = athena_client.start_query_execution(\n",
    "    QueryString=\"SELECT * FROM us_daily\", \n",
    "    QueryExecutionContext={\"Database\": SCHEMA_NAME}, \n",
    "    ResultConfiguration={\n",
    "        \"OutputLocation\": S3_STAGING_DIR,\n",
    "        \"EncryptionConfiguration\": {\"EncryptionOption\": \"SSE_S3\"},\n",
    "    },\n",
    ")"
   ]
  },
  {
   "cell_type": "code",
   "execution_count": null,
   "id": "ae451bab-3afc-4c9c-b958-de2eb3fdb7be",
   "metadata": {},
   "outputs": [],
   "source": [
    "us_daily= download_and_load_query_results(athena_client, response)\n",
    "us_daily.head()"
   ]
  },
  {
   "cell_type": "code",
   "execution_count": null,
   "id": "eea055e7-9e40-4776-acc4-59dfb81a9e4d",
   "metadata": {},
   "outputs": [],
   "source": [
    "response = athena_client.start_query_execution(\n",
    "    QueryString=\"SELECT * FROM us_total_latest\", \n",
    "    QueryExecutionContext={\"Database\": SCHEMA_NAME}, \n",
    "    ResultConfiguration={\n",
    "        \"OutputLocation\": S3_STAGING_DIR,\n",
    "        \"EncryptionConfiguration\": {\"EncryptionOption\": \"SSE_S3\"},\n",
    "    },\n",
    ")"
   ]
  },
  {
   "cell_type": "code",
   "execution_count": null,
   "id": "98573a0b-360c-4020-9903-0cac2ecbcdeb",
   "metadata": {},
   "outputs": [],
   "source": [
    "us_total_latest = download_and_load_query_results(athena_client, response)\n",
    "us_total_latest.head()"
   ]
  },
  {
   "cell_type": "code",
   "execution_count": null,
   "id": "1244c455-95f8-46c3-8c50-c8d5faa4b6e5",
   "metadata": {},
   "outputs": [],
   "source": [
    "response = athena_client.start_query_execution(\n",
    "    QueryString=\"SELECT * FROM states_daily\", \n",
    "    QueryExecutionContext={\"Database\": SCHEMA_NAME}, \n",
    "    ResultConfiguration={\n",
    "        \"OutputLocation\": S3_STAGING_DIR,\n",
    "        \"EncryptionConfiguration\": {\"EncryptionOption\": \"SSE_S3\"},\n",
    "    },\n",
    ")"
   ]
  },
  {
   "cell_type": "code",
   "execution_count": null,
   "id": "819d728e-f652-42b0-ab44-b0215e216468",
   "metadata": {},
   "outputs": [],
   "source": [
    "states_daily = download_and_load_query_results(athena_client, response)\n",
    "states_daily.head()"
   ]
  },
  {
   "cell_type": "code",
   "execution_count": null,
   "id": "552240f0-6fef-42f6-84c5-0c874a80b6e9",
   "metadata": {},
   "outputs": [],
   "source": [
    "response = athena_client.start_query_execution(\n",
    "    QueryString=\"SELECT * FROM CSV\", \n",
    "    QueryExecutionContext={\"Database\": SCHEMA_NAME}, \n",
    "    ResultConfiguration={\n",
    "        \"OutputLocation\": S3_STAGING_DIR,\n",
    "        \"EncryptionConfiguration\": {\"EncryptionOption\": \"SSE_S3\"},\n",
    "    },\n",
    ")"
   ]
  },
  {
   "cell_type": "code",
   "execution_count": null,
   "id": "d332d839-af97-43b7-8acf-7b3d36cfd9dc",
   "metadata": {},
   "outputs": [],
   "source": [
    "CSV= download_and_load_query_results(athena_client, response)\n",
    "CSV.head()"
   ]
  },
  {
   "cell_type": "code",
   "execution_count": null,
   "id": "adde9126-26d8-4dee-acbe-dc670c507ede",
   "metadata": {},
   "outputs": [],
   "source": [
    "response = athena_client.start_query_execution(\n",
    "    QueryString=\"SELECT * FROM countypopulation\", \n",
    "    QueryExecutionContext={\"Database\": SCHEMA_NAME}, \n",
    "    ResultConfiguration={\n",
    "        \"OutputLocation\": S3_STAGING_DIR,\n",
    "        \"EncryptionConfiguration\": {\"EncryptionOption\": \"SSE_S3\"},\n",
    "    },\n",
    ")"
   ]
  },
  {
   "cell_type": "code",
   "execution_count": null,
   "id": "917e6ee4-d510-403f-a6c3-d1e111909518",
   "metadata": {},
   "outputs": [],
   "source": [
    "countypopulation = download_and_load_query_results(athena_client, response)\n",
    "countypopulation.head()"
   ]
  },
  {
   "cell_type": "code",
   "execution_count": null,
   "id": "7b8f0e3c-7c19-4464-90de-ab69e39d9b93",
   "metadata": {},
   "outputs": [],
   "source": [
    "response = athena_client.start_query_execution(\n",
    "    QueryString=\"SELECT * FROM countrycode\", \n",
    "    QueryExecutionContext={\"Database\": SCHEMA_NAME}, \n",
    "    ResultConfiguration={\n",
    "        \"OutputLocation\": S3_STAGING_DIR,\n",
    "        \"EncryptionConfiguration\": {\"EncryptionOption\": \"SSE_S3\"},\n",
    "    },\n",
    ")"
   ]
  },
  {
   "cell_type": "code",
   "execution_count": null,
   "id": "864930a9-8ce4-476d-9daa-4215cc40df0d",
   "metadata": {},
   "outputs": [],
   "source": [
    "countrycode = download_and_load_query_results(athena_client, response)\n",
    "countrycode.head()"
   ]
  },
  {
   "cell_type": "code",
   "execution_count": null,
   "id": "b029744a-6738-414e-8a4f-279674504574",
   "metadata": {},
   "outputs": [],
   "source": [
    "response = athena_client.start_query_execution(\n",
    "    QueryString=\"SELECT * FROM us_total_latest\", \n",
    "    QueryExecutionContext={\"Database\": SCHEMA_NAME}, \n",
    "    ResultConfiguration={\n",
    "        \"OutputLocation\": S3_STAGING_DIR,\n",
    "        \"EncryptionConfiguration\": {\"EncryptionOption\": \"SSE_S3\"},\n",
    "    },\n",
    ")"
   ]
  },
  {
   "cell_type": "code",
   "execution_count": null,
   "id": "c9287306-ee3d-411a-8bc1-f5f7cbdc0ce8",
   "metadata": {},
   "outputs": [],
   "source": [
    "us_total_latest = download_and_load_query_results(athena_client, response)\n",
    "us_total_latest.head()"
   ]
  },
  {
   "cell_type": "code",
   "execution_count": 193,
   "id": "6d34d095-0766-4e8c-b59c-0219b8071cf7",
   "metadata": {},
   "outputs": [
    {
     "data": {
      "text/html": [
       "<div>\n",
       "<style scoped>\n",
       "    .dataframe tbody tr th:only-of-type {\n",
       "        vertical-align: middle;\n",
       "    }\n",
       "\n",
       "    .dataframe tbody tr th {\n",
       "        vertical-align: top;\n",
       "    }\n",
       "\n",
       "    .dataframe thead th {\n",
       "        text-align: right;\n",
       "    }\n",
       "</style>\n",
       "<table border=\"1\" class=\"dataframe\">\n",
       "  <thead>\n",
       "    <tr style=\"text-align: right;\">\n",
       "      <th></th>\n",
       "      <th>20210307</th>\n",
       "      <th>AK</th>\n",
       "      <th>56886</th>\n",
       "      <th>NaN</th>\n",
       "      <th>NaN</th>\n",
       "      <th>NaN</th>\n",
       "      <th>totalTestsViral</th>\n",
       "      <th>1731628</th>\n",
       "      <th>33.0</th>\n",
       "      <th>1293.0</th>\n",
       "      <th>...</th>\n",
       "      <th>NaN</th>\n",
       "      <th>0.0</th>\n",
       "      <th>0.0</th>\n",
       "      <th>dc4bccd4bb885349d7e94d6fed058e285d4be164</th>\n",
       "      <th>0.0</th>\n",
       "      <th>0.0</th>\n",
       "      <th>0.0</th>\n",
       "      <th>0.0</th>\n",
       "      <th>0.0</th>\n",
       "      <th>NaN</th>\n",
       "    </tr>\n",
       "  </thead>\n",
       "  <tbody>\n",
       "    <tr>\n",
       "      <th>1</th>\n",
       "      <td>20210307</td>\n",
       "      <td>AL</td>\n",
       "      <td>499819</td>\n",
       "      <td>107742.0</td>\n",
       "      <td>1931711.0</td>\n",
       "      <td>NaN</td>\n",
       "      <td>totalTestsPeopleViral</td>\n",
       "      <td>2323788</td>\n",
       "      <td>494.0</td>\n",
       "      <td>45976.0</td>\n",
       "      <td>...</td>\n",
       "      <td>NaN</td>\n",
       "      <td>-1.0</td>\n",
       "      <td>0.0</td>\n",
       "      <td>997207b430824ea40b8eb8506c19a93e07bc972e</td>\n",
       "      <td>0.0</td>\n",
       "      <td>0.0</td>\n",
       "      <td>0.0</td>\n",
       "      <td>0.0</td>\n",
       "      <td>0.0</td>\n",
       "      <td>NaN</td>\n",
       "    </tr>\n",
       "    <tr>\n",
       "      <th>2</th>\n",
       "      <td>20210307</td>\n",
       "      <td>AR</td>\n",
       "      <td>324818</td>\n",
       "      <td>69092.0</td>\n",
       "      <td>2480716.0</td>\n",
       "      <td>NaN</td>\n",
       "      <td>totalTestsViral</td>\n",
       "      <td>2736442</td>\n",
       "      <td>335.0</td>\n",
       "      <td>14926.0</td>\n",
       "      <td>...</td>\n",
       "      <td>NaN</td>\n",
       "      <td>22.0</td>\n",
       "      <td>11.0</td>\n",
       "      <td>50921aeefba3e30d31623aa495b47fb2ecc72fae</td>\n",
       "      <td>0.0</td>\n",
       "      <td>0.0</td>\n",
       "      <td>0.0</td>\n",
       "      <td>0.0</td>\n",
       "      <td>0.0</td>\n",
       "      <td>NaN</td>\n",
       "    </tr>\n",
       "    <tr>\n",
       "      <th>3</th>\n",
       "      <td>20210307</td>\n",
       "      <td>AS</td>\n",
       "      <td>0</td>\n",
       "      <td>NaN</td>\n",
       "      <td>2140.0</td>\n",
       "      <td>NaN</td>\n",
       "      <td>totalTestsViral</td>\n",
       "      <td>2140</td>\n",
       "      <td>NaN</td>\n",
       "      <td>NaN</td>\n",
       "      <td>...</td>\n",
       "      <td>NaN</td>\n",
       "      <td>0.0</td>\n",
       "      <td>0.0</td>\n",
       "      <td>96d23f888c995b9a7f3b4b864de6414f45c728ff</td>\n",
       "      <td>0.0</td>\n",
       "      <td>0.0</td>\n",
       "      <td>0.0</td>\n",
       "      <td>0.0</td>\n",
       "      <td>0.0</td>\n",
       "      <td>NaN</td>\n",
       "    </tr>\n",
       "    <tr>\n",
       "      <th>4</th>\n",
       "      <td>20210307</td>\n",
       "      <td>AZ</td>\n",
       "      <td>826454</td>\n",
       "      <td>56519.0</td>\n",
       "      <td>3073010.0</td>\n",
       "      <td>NaN</td>\n",
       "      <td>totalTestsViral</td>\n",
       "      <td>7908105</td>\n",
       "      <td>963.0</td>\n",
       "      <td>57907.0</td>\n",
       "      <td>...</td>\n",
       "      <td>NaN</td>\n",
       "      <td>5.0</td>\n",
       "      <td>44.0</td>\n",
       "      <td>0437a7a96f4471666f775e63e86923eb5cbd8cdf</td>\n",
       "      <td>0.0</td>\n",
       "      <td>0.0</td>\n",
       "      <td>0.0</td>\n",
       "      <td>0.0</td>\n",
       "      <td>0.0</td>\n",
       "      <td>NaN</td>\n",
       "    </tr>\n",
       "    <tr>\n",
       "      <th>5</th>\n",
       "      <td>20210307</td>\n",
       "      <td>CA</td>\n",
       "      <td>3501394</td>\n",
       "      <td>NaN</td>\n",
       "      <td>NaN</td>\n",
       "      <td>NaN</td>\n",
       "      <td>totalTestsViral</td>\n",
       "      <td>49646014</td>\n",
       "      <td>4291.0</td>\n",
       "      <td>NaN</td>\n",
       "      <td>...</td>\n",
       "      <td>NaN</td>\n",
       "      <td>258.0</td>\n",
       "      <td>0.0</td>\n",
       "      <td>63c5c0fd2daef2fb65150e9db486de98ed3f7b72</td>\n",
       "      <td>0.0</td>\n",
       "      <td>0.0</td>\n",
       "      <td>0.0</td>\n",
       "      <td>0.0</td>\n",
       "      <td>0.0</td>\n",
       "      <td>NaN</td>\n",
       "    </tr>\n",
       "  </tbody>\n",
       "</table>\n",
       "<p>5 rows × 56 columns</p>\n",
       "</div>"
      ],
      "text/plain": [
       "0  20210307  AK    56886       NaN        NaN  NaN        totalTestsViral  \\\n",
       "1  20210307  AL   499819  107742.0  1931711.0  NaN  totalTestsPeopleViral   \n",
       "2  20210307  AR   324818   69092.0  2480716.0  NaN        totalTestsViral   \n",
       "3  20210307  AS        0       NaN     2140.0  NaN        totalTestsViral   \n",
       "4  20210307  AZ   826454   56519.0  3073010.0  NaN        totalTestsViral   \n",
       "5  20210307  CA  3501394       NaN        NaN  NaN        totalTestsViral   \n",
       "\n",
       "0   1731628    33.0   1293.0  ...  NaN    0.0   0.0  \\\n",
       "1   2323788   494.0  45976.0  ...  NaN   -1.0   0.0   \n",
       "2   2736442   335.0  14926.0  ...  NaN   22.0  11.0   \n",
       "3      2140     NaN      NaN  ...  NaN    0.0   0.0   \n",
       "4   7908105   963.0  57907.0  ...  NaN    5.0  44.0   \n",
       "5  49646014  4291.0      NaN  ...  NaN  258.0   0.0   \n",
       "\n",
       "0  dc4bccd4bb885349d7e94d6fed058e285d4be164  0.0  0.0  0.0  0.0  0.0  NaN  \n",
       "1  997207b430824ea40b8eb8506c19a93e07bc972e  0.0  0.0  0.0  0.0  0.0  NaN  \n",
       "2  50921aeefba3e30d31623aa495b47fb2ecc72fae  0.0  0.0  0.0  0.0  0.0  NaN  \n",
       "3  96d23f888c995b9a7f3b4b864de6414f45c728ff  0.0  0.0  0.0  0.0  0.0  NaN  \n",
       "4  0437a7a96f4471666f775e63e86923eb5cbd8cdf  0.0  0.0  0.0  0.0  0.0  NaN  \n",
       "5  63c5c0fd2daef2fb65150e9db486de98ed3f7b72  0.0  0.0  0.0  0.0  0.0  NaN  \n",
       "\n",
       "[5 rows x 56 columns]"
      ]
     },
     "execution_count": 193,
     "metadata": {},
     "output_type": "execute_result"
    }
   ],
   "source": [
    "state_abv.head()"
   ]
  },
  {
   "cell_type": "code",
   "execution_count": null,
   "id": "27b515f7-889d-4128-a2c1-337f835be103",
   "metadata": {},
   "outputs": [],
   "source": [
    "new_header= state_abv.iloc[0]\n",
    "new_header"
   ]
  },
  {
   "cell_type": "code",
   "execution_count": null,
   "id": "eb31f219-21b8-4620-b479-7f16e3f6fa85",
   "metadata": {},
   "outputs": [],
   "source": [
    "state_abv=state_abv[1:]\n",
    "state_abv.head()"
   ]
  },
  {
   "cell_type": "code",
   "execution_count": null,
   "id": "1b2627a2-cae7-443a-9158-d782461e0751",
   "metadata": {},
   "outputs": [],
   "source": [
    "state_abv.columns= new_header\n",
    "#state_abv.coloumns=new_header\n",
    "state_abv.head()\n"
   ]
  },
  {
   "cell_type": "code",
   "execution_count": 194,
   "id": "c642a65d-5d40-4b38-bbec-d53ffd875428",
   "metadata": {},
   "outputs": [
    {
     "data": {
      "text/html": [
       "<div>\n",
       "<style scoped>\n",
       "    .dataframe tbody tr th:only-of-type {\n",
       "        vertical-align: middle;\n",
       "    }\n",
       "\n",
       "    .dataframe tbody tr th {\n",
       "        vertical-align: top;\n",
       "    }\n",
       "\n",
       "    .dataframe thead th {\n",
       "        text-align: right;\n",
       "    }\n",
       "</style>\n",
       "<table border=\"1\" class=\"dataframe\">\n",
       "  <thead>\n",
       "    <tr style=\"text-align: right;\">\n",
       "      <th></th>\n",
       "      <th>20210307</th>\n",
       "      <th>AK</th>\n",
       "      <th>56886</th>\n",
       "      <th>NaN</th>\n",
       "      <th>NaN</th>\n",
       "      <th>NaN</th>\n",
       "      <th>totalTestsViral</th>\n",
       "      <th>1731628</th>\n",
       "      <th>33.0</th>\n",
       "      <th>1293.0</th>\n",
       "      <th>...</th>\n",
       "      <th>NaN</th>\n",
       "      <th>0.0</th>\n",
       "      <th>0.0</th>\n",
       "      <th>dc4bccd4bb885349d7e94d6fed058e285d4be164</th>\n",
       "      <th>0.0</th>\n",
       "      <th>0.0</th>\n",
       "      <th>0.0</th>\n",
       "      <th>0.0</th>\n",
       "      <th>0.0</th>\n",
       "      <th>NaN</th>\n",
       "    </tr>\n",
       "  </thead>\n",
       "  <tbody>\n",
       "    <tr>\n",
       "      <th>1</th>\n",
       "      <td>20210307</td>\n",
       "      <td>AL</td>\n",
       "      <td>499819</td>\n",
       "      <td>107742.0</td>\n",
       "      <td>1931711.0</td>\n",
       "      <td>NaN</td>\n",
       "      <td>totalTestsPeopleViral</td>\n",
       "      <td>2323788</td>\n",
       "      <td>494.0</td>\n",
       "      <td>45976.0</td>\n",
       "      <td>...</td>\n",
       "      <td>NaN</td>\n",
       "      <td>-1.0</td>\n",
       "      <td>0.0</td>\n",
       "      <td>997207b430824ea40b8eb8506c19a93e07bc972e</td>\n",
       "      <td>0.0</td>\n",
       "      <td>0.0</td>\n",
       "      <td>0.0</td>\n",
       "      <td>0.0</td>\n",
       "      <td>0.0</td>\n",
       "      <td>NaN</td>\n",
       "    </tr>\n",
       "    <tr>\n",
       "      <th>2</th>\n",
       "      <td>20210307</td>\n",
       "      <td>AR</td>\n",
       "      <td>324818</td>\n",
       "      <td>69092.0</td>\n",
       "      <td>2480716.0</td>\n",
       "      <td>NaN</td>\n",
       "      <td>totalTestsViral</td>\n",
       "      <td>2736442</td>\n",
       "      <td>335.0</td>\n",
       "      <td>14926.0</td>\n",
       "      <td>...</td>\n",
       "      <td>NaN</td>\n",
       "      <td>22.0</td>\n",
       "      <td>11.0</td>\n",
       "      <td>50921aeefba3e30d31623aa495b47fb2ecc72fae</td>\n",
       "      <td>0.0</td>\n",
       "      <td>0.0</td>\n",
       "      <td>0.0</td>\n",
       "      <td>0.0</td>\n",
       "      <td>0.0</td>\n",
       "      <td>NaN</td>\n",
       "    </tr>\n",
       "    <tr>\n",
       "      <th>3</th>\n",
       "      <td>20210307</td>\n",
       "      <td>AS</td>\n",
       "      <td>0</td>\n",
       "      <td>NaN</td>\n",
       "      <td>2140.0</td>\n",
       "      <td>NaN</td>\n",
       "      <td>totalTestsViral</td>\n",
       "      <td>2140</td>\n",
       "      <td>NaN</td>\n",
       "      <td>NaN</td>\n",
       "      <td>...</td>\n",
       "      <td>NaN</td>\n",
       "      <td>0.0</td>\n",
       "      <td>0.0</td>\n",
       "      <td>96d23f888c995b9a7f3b4b864de6414f45c728ff</td>\n",
       "      <td>0.0</td>\n",
       "      <td>0.0</td>\n",
       "      <td>0.0</td>\n",
       "      <td>0.0</td>\n",
       "      <td>0.0</td>\n",
       "      <td>NaN</td>\n",
       "    </tr>\n",
       "    <tr>\n",
       "      <th>4</th>\n",
       "      <td>20210307</td>\n",
       "      <td>AZ</td>\n",
       "      <td>826454</td>\n",
       "      <td>56519.0</td>\n",
       "      <td>3073010.0</td>\n",
       "      <td>NaN</td>\n",
       "      <td>totalTestsViral</td>\n",
       "      <td>7908105</td>\n",
       "      <td>963.0</td>\n",
       "      <td>57907.0</td>\n",
       "      <td>...</td>\n",
       "      <td>NaN</td>\n",
       "      <td>5.0</td>\n",
       "      <td>44.0</td>\n",
       "      <td>0437a7a96f4471666f775e63e86923eb5cbd8cdf</td>\n",
       "      <td>0.0</td>\n",
       "      <td>0.0</td>\n",
       "      <td>0.0</td>\n",
       "      <td>0.0</td>\n",
       "      <td>0.0</td>\n",
       "      <td>NaN</td>\n",
       "    </tr>\n",
       "    <tr>\n",
       "      <th>5</th>\n",
       "      <td>20210307</td>\n",
       "      <td>CA</td>\n",
       "      <td>3501394</td>\n",
       "      <td>NaN</td>\n",
       "      <td>NaN</td>\n",
       "      <td>NaN</td>\n",
       "      <td>totalTestsViral</td>\n",
       "      <td>49646014</td>\n",
       "      <td>4291.0</td>\n",
       "      <td>NaN</td>\n",
       "      <td>...</td>\n",
       "      <td>NaN</td>\n",
       "      <td>258.0</td>\n",
       "      <td>0.0</td>\n",
       "      <td>63c5c0fd2daef2fb65150e9db486de98ed3f7b72</td>\n",
       "      <td>0.0</td>\n",
       "      <td>0.0</td>\n",
       "      <td>0.0</td>\n",
       "      <td>0.0</td>\n",
       "      <td>0.0</td>\n",
       "      <td>NaN</td>\n",
       "    </tr>\n",
       "  </tbody>\n",
       "</table>\n",
       "<p>5 rows × 56 columns</p>\n",
       "</div>"
      ],
      "text/plain": [
       "0  20210307  AK    56886       NaN        NaN  NaN        totalTestsViral  \\\n",
       "1  20210307  AL   499819  107742.0  1931711.0  NaN  totalTestsPeopleViral   \n",
       "2  20210307  AR   324818   69092.0  2480716.0  NaN        totalTestsViral   \n",
       "3  20210307  AS        0       NaN     2140.0  NaN        totalTestsViral   \n",
       "4  20210307  AZ   826454   56519.0  3073010.0  NaN        totalTestsViral   \n",
       "5  20210307  CA  3501394       NaN        NaN  NaN        totalTestsViral   \n",
       "\n",
       "0   1731628    33.0   1293.0  ...  NaN    0.0   0.0  \\\n",
       "1   2323788   494.0  45976.0  ...  NaN   -1.0   0.0   \n",
       "2   2736442   335.0  14926.0  ...  NaN   22.0  11.0   \n",
       "3      2140     NaN      NaN  ...  NaN    0.0   0.0   \n",
       "4   7908105   963.0  57907.0  ...  NaN    5.0  44.0   \n",
       "5  49646014  4291.0      NaN  ...  NaN  258.0   0.0   \n",
       "\n",
       "0  dc4bccd4bb885349d7e94d6fed058e285d4be164  0.0  0.0  0.0  0.0  0.0  NaN  \n",
       "1  997207b430824ea40b8eb8506c19a93e07bc972e  0.0  0.0  0.0  0.0  0.0  NaN  \n",
       "2  50921aeefba3e30d31623aa495b47fb2ecc72fae  0.0  0.0  0.0  0.0  0.0  NaN  \n",
       "3  96d23f888c995b9a7f3b4b864de6414f45c728ff  0.0  0.0  0.0  0.0  0.0  NaN  \n",
       "4  0437a7a96f4471666f775e63e86923eb5cbd8cdf  0.0  0.0  0.0  0.0  0.0  NaN  \n",
       "5  63c5c0fd2daef2fb65150e9db486de98ed3f7b72  0.0  0.0  0.0  0.0  0.0  NaN  \n",
       "\n",
       "[5 rows x 56 columns]"
      ]
     },
     "execution_count": 194,
     "metadata": {},
     "output_type": "execute_result"
    }
   ],
   "source": [
    "state_abv.head()"
   ]
  },
  {
   "cell_type": "code",
   "execution_count": null,
   "id": "504c2316-39b9-497e-b47a-0bf4ecd823b8",
   "metadata": {},
   "outputs": [],
   "source": [
    "\n",
    "factCovid_1=CSV[['fips', 'province_state', 'country_region', 'confirmed', 'deaths', 'recovered', 'active']] \n",
    "factCovid_2=states_daily[['fips', 'date', 'positive', 'negative', 'hospitalized','hospitalizedcurrently','hospitalizeddischarged']]\n",
    "factCovid= pd.merge(factCovid_1, factCovid_2, on='fips', how=\"inner\")"
   ]
  },
  {
   "cell_type": "code",
   "execution_count": null,
   "id": "78f1779c-d277-4b7b-831f-5fdadf621a1e",
   "metadata": {},
   "outputs": [],
   "source": [
    "factCovid.head(1000)"
   ]
  },
  {
   "cell_type": "code",
   "execution_count": 195,
   "id": "2fce1035-8a1b-453d-b163-bc9d314dc5c3",
   "metadata": {},
   "outputs": [
    {
     "data": {
      "text/plain": [
       "(27992, 13)"
      ]
     },
     "execution_count": 195,
     "metadata": {},
     "output_type": "execute_result"
    }
   ],
   "source": [
    "factCovid.shape"
   ]
  },
  {
   "cell_type": "code",
   "execution_count": null,
   "id": "778bfb5a-83e1-4293-b7cb-12d0df78824e",
   "metadata": {},
   "outputs": [],
   "source": [
    "dimRegion_1 = CSV[['fips', 'province_state', 'country_region', 'latitude', 'longitude']]\n",
    "dimRegion_2 =us_county[['fips', 'county', 'state']]\n",
    "dimRegion = pd.merge(dimRegion_1, dimRegion_2, on='fips', how='inner')\n"
   ]
  },
  {
   "cell_type": "code",
   "execution_count": null,
   "id": "5995ed55-1186-4ff3-94dc-69d7fce861a8",
   "metadata": {},
   "outputs": [],
   "source": [
    "eds[['fips', 'state_name', 'latitude', 'longtitude', 'hq_address', 'hospital_name', 'hospital_type', 'hq_city', 'hq_state']]\n"
   ]
  },
  {
   "cell_type": "code",
   "execution_count": null,
   "id": "aa0eb623-b5c1-44b4-be94-41a3c0a40589",
   "metadata": {},
   "outputs": [],
   "source": [
    "\n",
    "dimDate = states_daily [['fips', 'date']]"
   ]
  },
  {
   "cell_type": "code",
   "execution_count": null,
   "id": "c3242f79-df39-4a0d-b726-45d3821f6a0b",
   "metadata": {},
   "outputs": [],
   "source": [
    "dimDate['date'] = pd.to_datetime (dimDate['date'], format='%Y%m%d')"
   ]
  },
  {
   "cell_type": "code",
   "execution_count": null,
   "id": "b9955d70-d967-40fb-8556-5060dd03cb4a",
   "metadata": {},
   "outputs": [],
   "source": [
    "dimDate.head()"
   ]
  },
  {
   "cell_type": "code",
   "execution_count": null,
   "id": "2b06f316-6f4e-4ad0-ba54-1695eecbd7dd",
   "metadata": {},
   "outputs": [],
   "source": [
    "dimDate['year'] = dimDate['date'].dt.year \n",
    "dimDate['month'] = dimDate['date'].dt.month \n",
    "dimDate[\"day_of_week\"]=dimDate ['date'].dt.dayofweek"
   ]
  },
  {
   "cell_type": "code",
   "execution_count": null,
   "id": "fcd5dc8b-ce2d-483d-af40-9e4b6ccb05e6",
   "metadata": {},
   "outputs": [],
   "source": [
    "dimDate.head()\n"
   ]
  },
  {
   "cell_type": "code",
   "execution_count": null,
   "id": "7db3092f-678e-4d7b-a0cd-b5e60f5c854e",
   "metadata": {},
   "outputs": [],
   "source": [
    "bucket='covid-de-bucket01'\n",
    "csv_buffer=StringIO()\n",
    "csv_buffer"
   ]
  },
  {
   "cell_type": "code",
   "execution_count": null,
   "id": "ef524a43-379d-4016-a836-473214683667",
   "metadata": {},
   "outputs": [],
   "source": [
    "factCovid.to_csv(csv_buffer)"
   ]
  },
  {
   "cell_type": "code",
   "execution_count": null,
   "id": "ebd25211-8013-4b1b-b9d1-63492b1d7471",
   "metadata": {},
   "outputs": [],
   "source": [
    "import boto3\n",
    "\n",
    "s3 = boto3.resource(\n",
    "    's3',\n",
    "    aws_access_key_id=\"\",\n",
    "    aws_secret_access_key=\"\",\n",
    "    region_name=AWS_REGION\n",
    ")\n",
    "\n",
    "#bucket = \"covid-de-bucket01\"  # Replace with your bucket name\n",
    "#csv_buffer =StringIO()  # Replace with your BytesIO or data buffer containing CSV data\n",
    "\n",
    "# Uploading the CSV data to S3\n",
    "try:\n",
    "    s3.Object(bucket, 'factCovid.csv').put(Body=csv_buffer.getvalue())\n",
    "    print(\"CSV file uploaded successfully!\")\n",
    "except Exception as e:\n",
    "    print(\"An error occurred:\", e)\n"
   ]
  },
  {
   "cell_type": "code",
   "execution_count": null,
   "id": "145484a4-2419-47b7-91c1-c99a8db82e06",
   "metadata": {},
   "outputs": [],
   "source": [
    "dimRegion.to_csv(csv_buffer)"
   ]
  },
  {
   "cell_type": "code",
   "execution_count": null,
   "id": "a816b925-ed6b-4cde-8d57-fa2a9816a920",
   "metadata": {},
   "outputs": [],
   "source": [
    "import boto3\n",
    "\n",
    "s3 = boto3.resource(\n",
    "    's3',\n",
    "    aws_access_key_id=\"\",\n",
    "    aws_secret_access_key=\"\",\n",
    "    region_name=AWS_REGION\n",
    ")\n",
    "\n",
    "#bucket = \"covid-de-bucket01\"  # Replace with your bucket name\n",
    "#csv_buffer =StringIO()  # Replace with your BytesIO or data buffer containing CSV data\n",
    "\n",
    "# Uploading the CSV data to S3\n",
    "try:\n",
    "    s3.Object(bucket, 'dimRegion.csv').put(Body=csv_buffer.getvalue())\n",
    "    print(\"CSV file uploaded successfully!\")\n",
    "except Exception as e:\n",
    "    print(\"An error occurred:\", e)\n"
   ]
  },
  {
   "cell_type": "code",
   "execution_count": null,
   "id": "ccaa9113-f5cb-4bd7-ac44-326cc8735f29",
   "metadata": {},
   "outputs": [],
   "source": [
    "dimDate.to_csv(csv_buffer)"
   ]
  },
  {
   "cell_type": "code",
   "execution_count": null,
   "id": "3a8804c7-ec8c-4628-9fd2-1663566d771a",
   "metadata": {},
   "outputs": [],
   "source": [
    "import boto3\n",
    "\n",
    "s3 = boto3.resource(\n",
    "    's3',\n",
    "    aws_access_key_id=\"\",\n",
    "    aws_secret_access_key=\"\",\n",
    "    region_name=AWS_REGION\n",
    ")\n",
    "\n",
    "#bucket = \"covid-de-bucket01\"  # Replace with your bucket name\n",
    "#csv_buffer =StringIO()  # Replace with your BytesIO or data buffer containing CSV data\n",
    "\n",
    "# Uploading the CSV data to S3\n",
    "try:\n",
    "    s3.Object(bucket, 'dimDate.csv').put(Body=csv_buffer.getvalue())\n",
    "    print(\"CSV file uploaded successfully!\")\n",
    "except Exception as e:\n",
    "    print(\"An error occurred:\", e)"
   ]
  },
  {
   "cell_type": "code",
   "execution_count": null,
   "id": "8a68eadc-1686-4a42-90d3-3ee85b741c50",
   "metadata": {},
   "outputs": [],
   "source": [
    "eds.to_csv(csv_buffer)"
   ]
  },
  {
   "cell_type": "code",
   "execution_count": 192,
   "id": "65b6e2f2-747c-45ed-b71a-1963438861bf",
   "metadata": {},
   "outputs": [
    {
     "name": "stdout",
     "output_type": "stream",
     "text": [
      "CSV file uploaded successfully!\n"
     ]
    }
   ],
   "source": [
    "import boto3\n",
    "\n",
    "s3 = boto3.resource(\n",
    "    's3',\n",
    "    aws_access_key_id=\"\",\n",
    "    aws_secret_access_key=\"\",\n",
    "    region_name=AWS_REGION\n",
    ")\n",
    "\n",
    "#bucket = \"covid-de-bucket01\"  # Replace with your bucket name\n",
    "#csv_buffer =StringIO()  # Replace with your BytesIO or data buffer containing CSV data\n",
    "\n",
    "# Uploading the CSV data to S3\n",
    "try:\n",
    "    s3.Object(bucket, 'eds.csv').put(Body=csv_buffer.getvalue())\n",
    "    print(\"CSV file uploaded successfully!\")\n",
    "except Exception as e:\n",
    "    print(\"An error occurred:\", e)"
   ]
  },
  {
   "cell_type": "code",
   "execution_count": 187,
   "id": "cb0a1289-8cf1-4792-8e38-5b634725a365",
   "metadata": {},
   "outputs": [],
   "source": [
    "import redshift_connector"
   ]
  },
  {
   "cell_type": "code",
   "execution_count": null,
   "id": "ae8dcfa3-f6cf-4369-be74-9c58724d742e",
   "metadata": {},
   "outputs": [],
   "source": [
    "conn = redshift_connector.connect(\n",
    "    host='redshift-cluster-2.ca28nsagiovy.ap-south-1.redshift.amazonaws.com:5439/dev',\n",
    "   \n",
    "    user='nishant-dev1',\n",
    "    database='dev',\n",
    "    password='Ujjain@7816',\n",
    "    port=5439\n",
    ")\n",
    "    #port=5439"
   ]
  },
  {
   "cell_type": "code",
   "execution_count": null,
   "id": "2da077b9-f453-4c72-a4d4-b600c85c3908",
   "metadata": {},
   "outputs": [],
   "source": [
    "dimDatesql=pd.io.sql.get_schema (dimDate.reset_index(), 'dimDate')\n",
    "print(''.join(dimDatesql))"
   ]
  },
  {
   "cell_type": "code",
   "execution_count": null,
   "id": "eda11f99-7d66-4a78-8fbf-ef8e5480b585",
   "metadata": {},
   "outputs": [],
   "source": [
    "factcovidsql=pd.io.sql.get_schema (dimDate.reset_index(), 'factcovid')\n",
    "print(''.join(dimDatesql))"
   ]
  },
  {
   "cell_type": "code",
   "execution_count": null,
   "id": "9800ef9f-3c5c-4d79-905c-eb9b44c0c525",
   "metadata": {},
   "outputs": [],
   "source": [
    "dimRegionsql=pd.io.sql.get_schema (dimDate.reset_index(), 'dimRegion')\n",
    "print(''.join(dimDatesql))"
   ]
  },
  {
   "cell_type": "code",
   "execution_count": null,
   "id": "b7ff8148-cf32-43ff-b94e-ed15268181ee",
   "metadata": {},
   "outputs": [],
   "source": []
  }
 ],
 "metadata": {
  "kernelspec": {
   "display_name": "Python 3 (ipykernel)",
   "language": "python",
   "name": "python3"
  },
  "language_info": {
   "codemirror_mode": {
    "name": "ipython",
    "version": 3
   },
   "file_extension": ".py",
   "mimetype": "text/x-python",
   "name": "python",
   "nbconvert_exporter": "python",
   "pygments_lexer": "ipython3",
   "version": "3.11.4"
  }
 },
 "nbformat": 4,
 "nbformat_minor": 5
}
